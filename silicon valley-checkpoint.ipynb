{
 "cells": [
  {
   "cell_type": "code",
   "execution_count": 33,
   "id": "30939a22",
   "metadata": {},
   "outputs": [],
   "source": [
    "def sunitha():\n",
    "    for i in range(9):\n",
    "        if (i==0 or i==4 or i==8):\n",
    "            print('*'*5)\n",
    "        else:\n",
    "             print('*')      "
   ]
  },
  {
   "cell_type": "code",
   "execution_count": 32,
   "id": "c0248d24",
   "metadata": {},
   "outputs": [],
   "source": [
    "def mahesh():\n",
    "    for i in range(7):\n",
    "        if(i==0 or i==3 or i==6):\n",
    "            print('*'*5)\n",
    "        elif(i==1 or i==2):\n",
    "             print('*')\n",
    "        elif(i==4 or i==5):\n",
    "             print('    *')"
   ]
  },
  {
   "cell_type": "code",
   "execution_count": 40,
   "id": "e57fcd0f",
   "metadata": {},
   "outputs": [],
   "source": [
    "def bindu():\n",
    "    for i in range(6):\n",
    "        if (i==5):\n",
    "            print('*'*6)\n",
    "        else:\n",
    "             print('*    *')     "
   ]
  },
  {
   "cell_type": "code",
   "execution_count": 39,
   "id": "c9c50520",
   "metadata": {},
   "outputs": [],
   "source": [
    "def prabhakar():\n",
    "    for i in range(8):\n",
    "        if (i==0 or i==3):\n",
    "            print('*'*5)\n",
    "        elif(i==1 or i==2):\n",
    "            print('*   *')\n",
    "        else:\n",
    "            print('*')      "
   ]
  },
  {
   "cell_type": "code",
   "execution_count": 28,
   "id": "590d4ddc",
   "metadata": {},
   "outputs": [],
   "source": [
    "def kavya():\n",
    "    for i in range(8):\n",
    "        if (i==0 or i==3):\n",
    "            print('*'*5)\n",
    "        elif(i==2):\n",
    "            print('*   *')\n",
    "        elif(i==4):\n",
    "            print('**')\n",
    "        elif(i==5):\n",
    "            print('* *')\n",
    "        elif(i==6):\n",
    "            print('*  *')    "
   ]
  },
  {
   "cell_type": "code",
   "execution_count": 29,
   "id": "0f0026c6",
   "metadata": {},
   "outputs": [],
   "source": [
    "def karthik():\n",
    "    for i in range(7):\n",
    "        if (i==0):\n",
    "            print('*'*7)\n",
    "        else:\n",
    "            print('   *')       "
   ]
  },
  {
   "cell_type": "code",
   "execution_count": 25,
   "id": "02a0a681",
   "metadata": {},
   "outputs": [],
   "source": [
    "def mark():\n",
    "    for i in range(6):\n",
    "        if(i==0):\n",
    "             print(' *** ')\n",
    "        elif(i==3):\n",
    "            print('*'*5)\n",
    "        else:\n",
    "             print('*   *') "
   ]
  },
  {
   "cell_type": "code",
   "execution_count": 50,
   "id": "a06aa299",
   "metadata": {},
   "outputs": [
    {
     "name": "stdout",
     "output_type": "stream",
     "text": [
      "*****\n",
      "*\n",
      "*\n",
      "*****\n",
      "    *\n",
      "    *\n",
      "*****\n",
      "*    *\n",
      "*    *\n",
      "*    *\n",
      "*    *\n",
      "*    *\n",
      "******\n",
      "*****\n",
      "*   *\n",
      "*   *\n",
      "*****\n",
      "*\n",
      "*\n",
      "*\n",
      "*\n",
      "*****\n",
      "*\n",
      "*\n",
      "*\n",
      "*****\n",
      "*\n",
      "*\n",
      "*\n",
      "*****\n",
      "*****\n",
      "*   *\n",
      "*****\n",
      "**\n",
      "* *\n",
      "*  *\n"
     ]
    }
   ],
   "source": [
    "mahesh()\n",
    "bindu()\n",
    "prabhakar()\n",
    "sunitha()\n",
    "kavya()"
   ]
  },
  {
   "cell_type": "code",
   "execution_count": 51,
   "id": "c311af84",
   "metadata": {},
   "outputs": [
    {
     "name": "stdout",
     "output_type": "stream",
     "text": [
      "*****\n",
      "*\n",
      "*\n",
      "*****\n",
      "    *\n",
      "    *\n",
      "*****\n",
      "*******\n",
      "   *\n",
      "   *\n",
      "   *\n",
      "   *\n",
      "   *\n",
      "   *\n",
      " *** \n",
      "*   *\n",
      "*   *\n",
      "*****\n",
      "*   *\n",
      "*   *\n",
      "*****\n",
      "*   *\n",
      "*****\n",
      "**\n",
      "* *\n",
      "*  *\n"
     ]
    }
   ],
   "source": [
    "mahesh()\n",
    "karthik()\n",
    "mark()\n",
    "kavya()"
   ]
  },
  {
   "cell_type": "code",
   "execution_count": 52,
   "id": "5f42620b",
   "metadata": {},
   "outputs": [
    {
     "name": "stdout",
     "output_type": "stream",
     "text": [
      "\n",
      "1\n",
      "22\n",
      "333\n",
      "4444\n",
      "55555\n",
      "666666\n"
     ]
    }
   ],
   "source": [
    "for i in range(7):\n",
    "    print(str(i)*i)"
   ]
  },
  {
   "cell_type": "code",
   "execution_count": 56,
   "id": "d9781331",
   "metadata": {},
   "outputs": [
    {
     "name": "stdout",
     "output_type": "stream",
     "text": [
      "enter a number:15\n",
      "15 x 0 = 0\n",
      "15 x 1 = 15\n",
      "15 x 2 = 30\n",
      "15 x 3 = 45\n",
      "15 x 4 = 60\n",
      "15 x 5 = 75\n",
      "15 x 6 = 90\n",
      "15 x 7 = 105\n",
      "15 x 8 = 120\n",
      "15 x 9 = 135\n",
      "15 x 10 = 150\n"
     ]
    }
   ],
   "source": [
    "n=int(input(\"enter a number:\"))\n",
    "for i in range(0,11):\n",
    "    print(n,'x',i, '=',n*i)"
   ]
  },
  {
   "cell_type": "code",
   "execution_count": 57,
   "id": "7a901106",
   "metadata": {},
   "outputs": [],
   "source": [
    "feh=(7,8,9)"
   ]
  },
  {
   "cell_type": "code",
   "execution_count": 59,
   "id": "5ddf2efc",
   "metadata": {},
   "outputs": [
    {
     "data": {
      "text/plain": [
       "9"
      ]
     },
     "execution_count": 59,
     "metadata": {},
     "output_type": "execute_result"
    }
   ],
   "source": [
    "max(feh)"
   ]
  },
  {
   "cell_type": "code",
   "execution_count": 60,
   "id": "6a96a744",
   "metadata": {},
   "outputs": [
    {
     "data": {
      "text/plain": [
       "24"
      ]
     },
     "execution_count": 60,
     "metadata": {},
     "output_type": "execute_result"
    }
   ],
   "source": [
    "sum(feh)"
   ]
  },
  {
   "cell_type": "code",
   "execution_count": null,
   "id": "dcf879b9",
   "metadata": {},
   "outputs": [],
   "source": []
  }
 ],
 "metadata": {
  "kernelspec": {
   "display_name": "Python 3",
   "language": "python",
   "name": "python3"
  },
  "language_info": {
   "codemirror_mode": {
    "name": "ipython",
    "version": 3
   },
   "file_extension": ".py",
   "mimetype": "text/x-python",
   "name": "python",
   "nbconvert_exporter": "python",
   "pygments_lexer": "ipython3",
   "version": "3.8.8"
  }
 },
 "nbformat": 4,
 "nbformat_minor": 5
}
